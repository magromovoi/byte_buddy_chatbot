{
 "cells": [
  {
   "cell_type": "code",
   "execution_count": null,
   "outputs": [],
   "source": [
    "from __future__ import annotations\n",
    "\n",
    "import json\n",
    "from copy import deepcopy\n",
    "from pathlib import Path\n",
    "\n",
    "import numpy as np\n",
    "import pandas as pd\n",
    "from dataclasses import dataclass\n",
    "from tqdm.auto import tqdm\n",
    "\n",
    "import torch\n",
    "import torch.nn as nn\n",
    "import torch.nn.functional as f\n",
    "from torch.utils.data import DataLoader\n",
    "from torch.optim import AdamW\n",
    "\n",
    "import evaluate\n",
    "import faiss\n",
    "from datasets import Dataset\n",
    "from transformers import AutoTokenizer, AutoModel"
   ],
   "metadata": {
    "collapsed": false
   },
   "id": "dec7258cc6a747a8"
  },
  {
   "cell_type": "code",
   "execution_count": null,
   "outputs": [],
   "source": [
    "with open('data/retrieval_dataset.json', 'r') as file:\n",
    "    retrieval_dataset = json.load(file)"
   ],
   "metadata": {
    "collapsed": false
   },
   "id": "519de08b20513377"
  },
  {
   "cell_type": "code",
   "execution_count": null,
   "outputs": [],
   "source": [
    "products = pd.read_csv('data/products.csv', sep=';', index_col='id')\n",
    "products.sample(n=5)"
   ],
   "metadata": {
    "collapsed": false
   },
   "id": "566656df9991b0d9"
  },
  {
   "cell_type": "code",
   "execution_count": null,
   "outputs": [],
   "source": [
    "tokenizer = AutoTokenizer.from_pretrained('intfloat/multilingual-e5-large-instruct')\n",
    "tokenizer_kwargs = dict(max_length=512, padding=True, truncation=True, return_tensors='pt')\n",
    "\n",
    "model = AutoModel.from_pretrained('intfloat/multilingual-e5-large-instruct')"
   ],
   "metadata": {
    "collapsed": false
   },
   "id": "3d002f5879ea1cdb"
  },
  {
   "cell_type": "code",
   "execution_count": null,
   "outputs": [],
   "source": [
    "def average_pool(last_hidden_states, attention_mask):\n",
    "    last_hidden = last_hidden_states.masked_fill(~attention_mask[..., None].bool(), 0.0)\n",
    "    return last_hidden.sum(dim=1) / attention_mask.sum(dim=1)[..., None]\n",
    "\n",
    "def get_detailed_instruct(task_description: str, query: str) -> str:\n",
    "    return f'Instruct: {task_description}\\nQuery: {query}'\n",
    "\n",
    "task = 'Given a Russian search query, retrieve relevant items that satisfy the query'"
   ],
   "metadata": {
    "collapsed": false
   },
   "id": "5d31b56d8639614d"
  },
  {
   "cell_type": "code",
   "execution_count": null,
   "outputs": [],
   "source": [
    "def get_embeddings(texts: list[str]) -> np.ndarray:\n",
    "    batch_dict = tokenizer(texts, **tokenizer_kwargs)\n",
    "    with torch.no_grad():\n",
    "        outputs = model(**batch_dict)\n",
    "    embeddings = average_pool(outputs.last_hidden_state, batch_dict['attention_mask'])\n",
    "    embeddings = f.normalize(embeddings, p=2, dim=1)\n",
    "    return embeddings.numpy()"
   ],
   "metadata": {
    "collapsed": false
   },
   "id": "3f93b2d55fe9335d"
  },
  {
   "cell_type": "code",
   "execution_count": null,
   "outputs": [],
   "source": [
    "items = [f\"{item['category']} {item['brand']} {item['name']}\" for _, item in products.iterrows()]\n",
    "item_embeddings = get_embeddings(items)"
   ],
   "metadata": {
    "collapsed": false
   },
   "id": "initial_id"
  },
  {
   "cell_type": "code",
   "execution_count": null,
   "outputs": [],
   "source": [
    "dim = 1024\n",
    "index = faiss.IndexFlatIP(dim)\n",
    "index.add(item_embeddings)"
   ],
   "metadata": {
    "collapsed": false
   },
   "id": "6af53f79c323d394"
  },
  {
   "cell_type": "code",
   "execution_count": null,
   "outputs": [],
   "source": [
    "def get_top_results(query: str, num_nearest_neighbors=25):\n",
    "    query_with_instruction = get_detailed_instruct(task, query)\n",
    "    queries = [query_with_instruction]\n",
    "    query_embeddings = get_embeddings(queries)\n",
    "    distances, indices = index.search(query_embeddings, num_nearest_neighbors)\n",
    "    return products.loc[indices[0]]"
   ],
   "metadata": {
    "collapsed": false
   },
   "id": "9931f59811c56f22"
  },
  {
   "cell_type": "code",
   "execution_count": null,
   "outputs": [],
   "source": [
    "query = 'Ищу наушники Sennheiser до 20к.'\n",
    "\n",
    "get_top_results(query)"
   ],
   "metadata": {
    "collapsed": false
   },
   "id": "c85a0d0a042edaaa"
  },
  {
   "cell_type": "code",
   "execution_count": null,
   "outputs": [],
   "source": [
    "model.save_pretrained('models/retrieval')"
   ],
   "metadata": {
    "collapsed": false
   },
   "id": "792d5f33a2c59142"
  },
  {
   "cell_type": "code",
   "execution_count": null,
   "outputs": [],
   "source": [],
   "metadata": {
    "collapsed": false
   },
   "id": "d0d7897046ef668c"
  }
 ],
 "metadata": {
  "kernelspec": {
   "display_name": "Python 3",
   "language": "python",
   "name": "python3"
  },
  "language_info": {
   "codemirror_mode": {
    "name": "ipython",
    "version": 2
   },
   "file_extension": ".py",
   "mimetype": "text/x-python",
   "name": "python",
   "nbconvert_exporter": "python",
   "pygments_lexer": "ipython2",
   "version": "2.7.6"
  }
 },
 "nbformat": 4,
 "nbformat_minor": 5
}
