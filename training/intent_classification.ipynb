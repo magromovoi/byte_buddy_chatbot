{
 "cells": [
  {
   "cell_type": "code",
   "execution_count": null,
   "id": "initial_id",
   "metadata": {
    "collapsed": true
   },
   "outputs": [],
   "source": [
    "from __future__ import annotations\n",
    "\n",
    "import json\n",
    "from pprint import pprint\n",
    "from copy import deepcopy\n",
    "from pathlib import Path\n",
    "\n",
    "import numpy as np\n",
    "import pandas as pd\n",
    "from dataclasses import dataclass\n",
    "from tqdm.auto import tqdm\n",
    "\n",
    "import torch\n",
    "import torch.nn as nn\n",
    "import torch.nn.functional as f\n",
    "from torch.utils.data import DataLoader\n",
    "from torch.optim import AdamW\n",
    "\n",
    "import evaluate\n",
    "from datasets import Dataset\n",
    "from transformers import AutoTokenizer, AutoModelForSequenceClassification, get_scheduler"
   ]
  },
  {
   "cell_type": "code",
   "execution_count": null,
   "outputs": [],
   "source": [
    "def seed_everything(seed: int):\n",
    "    np.random.seed(seed)\n",
    "    torch.manual_seed(seed)\n",
    "    torch.cuda.manual_seed(seed)\n",
    "\n",
    "seed_everything(22)"
   ],
   "metadata": {
    "collapsed": false
   },
   "id": "52a4b913492529ef"
  },
  {
   "cell_type": "code",
   "execution_count": null,
   "outputs": [],
   "source": [
    "pd.options.display.float_format = '{:.3f}'.format\n",
    "device = 'mps' if torch.backends.mps.is_available() else 'cpu'"
   ],
   "metadata": {
    "collapsed": false
   },
   "id": "86fc2acde4263906"
  },
  {
   "cell_type": "code",
   "execution_count": null,
   "outputs": [],
   "source": [
    "@dataclass\n",
    "class IntentClassificationConfig:\n",
    "    labels = [\n",
    "        'product_search',\n",
    "        'product_info',\n",
    "        'order_status',\n",
    "        'order_return',\n",
    "        'operator',\n",
    "        'payment',\n",
    "        'authenticity',\n",
    "    ]\n",
    "    label_id_to_name = dict(enumerate(labels))\n",
    "    label_name_to_id = {v: k for k, v in label_id_to_name.items()}\n",
    "    \n",
    "config = IntentClassificationConfig()"
   ],
   "metadata": {
    "collapsed": false
   },
   "id": "9931a80867957251"
  },
  {
   "cell_type": "code",
   "execution_count": null,
   "outputs": [],
   "source": [
    "checkpoint = 'google-bert/bert-base-multilingual-cased'\n",
    "\n",
    "tokenizer_kwargs = dict(return_tensors='pt', max_length=64, truncation=True, padding='max_length')\n",
    "tokenizer = AutoTokenizer.from_pretrained(checkpoint)"
   ],
   "metadata": {
    "collapsed": false
   },
   "id": "8781b2d75ee09fe9"
  },
  {
   "cell_type": "code",
   "execution_count": null,
   "outputs": [],
   "source": [
    "with open('data/intent_classification_dataset.json', 'r') as file:\n",
    "    intent_classification_dataset: list = json.load(file)"
   ],
   "metadata": {
    "collapsed": false
   },
   "id": "630c76a6248aabc4"
  },
  {
   "cell_type": "code",
   "execution_count": null,
   "outputs": [],
   "source": [
    "for label in config.labels:\n",
    "    if label.startswith('product_'):\n",
    "        continue\n",
    "    queries = Path(f'raw_data/{label}.txt').read_text().split('\\n')\n",
    "    for text in queries:\n",
    "        intent_classification_dataset.append({\n",
    "            'text': text,\n",
    "            'label': label,\n",
    "        })"
   ],
   "metadata": {
    "collapsed": false
   },
   "id": "6d16bd1c1284b7a7"
  },
  {
   "cell_type": "code",
   "execution_count": null,
   "outputs": [],
   "source": [
    "with open('data/intent_classification_dataset.json', 'w') as file:\n",
    "    json.dump(intent_classification_dataset, file)"
   ],
   "metadata": {
    "collapsed": false
   },
   "id": "9ef48e64e08b39da"
  },
  {
   "cell_type": "code",
   "execution_count": null,
   "outputs": [],
   "source": [
    "dataset = Dataset.from_list(intent_classification_dataset)\n",
    "dataset = dataset.train_test_split(test_size=0.05)\n",
    "\n",
    "def preprocess_text(batch: list[str]):\n",
    "    return tokenizer(batch, **tokenizer_kwargs)\n",
    "\n",
    "dataset = dataset.map(lambda item: preprocess_text(item['text']), remove_columns=['text'], batched=True)\n",
    "\n",
    "def preprocess_label(batch: list[str]):\n",
    "    return {'label': torch.tensor([config.label_name_to_id[label] for label in batch])}\n",
    "\n",
    "dataset = dataset.map(lambda item: preprocess_label(item['label']), remove_columns=['label'], batched=True)"
   ],
   "metadata": {
    "collapsed": false
   },
   "id": "1c0837a68a98c7ab"
  },
  {
   "cell_type": "code",
   "execution_count": null,
   "outputs": [],
   "source": [
    "dataset.set_format('torch')"
   ],
   "metadata": {
    "collapsed": false
   },
   "id": "6e3dc1c185907d76"
  },
  {
   "cell_type": "code",
   "execution_count": null,
   "outputs": [],
   "source": [
    "train_dataloader = DataLoader(dataset['train'], shuffle=True, batch_size=8)\n",
    "eval_dataloader = DataLoader(dataset['test'], batch_size=8)"
   ],
   "metadata": {
    "collapsed": false
   },
   "id": "16fdae9285fa4abc"
  },
  {
   "cell_type": "code",
   "execution_count": null,
   "outputs": [],
   "source": [
    "model = AutoModelForSequenceClassification.from_pretrained(checkpoint, num_labels=len(config.labels))\n",
    "model = model.to(device)"
   ],
   "metadata": {
    "collapsed": false
   },
   "id": "e2c28b575b6ff3f5"
  },
  {
   "cell_type": "code",
   "execution_count": null,
   "outputs": [],
   "source": [
    "optimizer = AdamW(model.parameters(), lr=5e-5)"
   ],
   "metadata": {
    "collapsed": false
   },
   "id": "ccf6b3079c15db30"
  },
  {
   "cell_type": "code",
   "execution_count": null,
   "outputs": [],
   "source": [
    "num_epochs = 5\n",
    "num_training_steps = num_epochs * len(train_dataloader)\n",
    "lr_scheduler = get_scheduler(\n",
    "    name='linear', optimizer=optimizer, num_warmup_steps=0, num_training_steps=num_training_steps,\n",
    ")"
   ],
   "metadata": {
    "collapsed": false
   },
   "id": "b65586fa9c49b004"
  },
  {
   "cell_type": "code",
   "execution_count": null,
   "outputs": [],
   "source": [
    "cross_entropy = nn.CrossEntropyLoss()\n",
    "\n",
    "progress_bar = tqdm(range(num_training_steps))\n",
    "\n",
    "model.train()\n",
    "for epoch in range(num_epochs):\n",
    "    for batch in train_dataloader:\n",
    "        batch = {k: v.to(device) for k, v in batch.items()}\n",
    "        batch_fwd = {k: v for k, v in batch.items() if k != 'label'}\n",
    "        outputs = model(**batch_fwd)\n",
    "        \n",
    "        logits = outputs['logits']\n",
    "        labels = batch['label']\n",
    "        \n",
    "        loss = cross_entropy(logits, labels)\n",
    "        loss.backward()\n",
    "\n",
    "        optimizer.step()\n",
    "        lr_scheduler.step()\n",
    "        optimizer.zero_grad()\n",
    "        progress_bar.update(1)"
   ],
   "metadata": {
    "collapsed": false
   },
   "id": "a2f1c0f333468124"
  },
  {
   "cell_type": "code",
   "execution_count": null,
   "outputs": [],
   "source": [
    "metric = evaluate.load('accuracy')\n",
    "model.eval()\n",
    "for batch in eval_dataloader:\n",
    "    batch = {k: v.to(device) for k, v in batch.items()}\n",
    "    batch_fwd = {k: v for k, v in batch.items() if k != 'label'}\n",
    "    with torch.no_grad():\n",
    "        outputs = model(**batch_fwd)\n",
    "\n",
    "    logits = outputs.logits\n",
    "    batch_predictions = torch.argmax(logits, dim=-1)\n",
    "    \n",
    "    metric.add_batch(predictions=batch_predictions.view(-1), references=batch['label'].view(-1))\n",
    "\n",
    "metric.compute()"
   ],
   "metadata": {
    "collapsed": false
   },
   "id": "3f8eb498d329fba5"
  },
  {
   "cell_type": "code",
   "execution_count": null,
   "outputs": [],
   "source": [
    "model.save_pretrained('models/intent_classification')"
   ],
   "metadata": {
    "collapsed": false
   },
   "id": "34ca0cbf835cd8"
  },
  {
   "cell_type": "code",
   "execution_count": null,
   "outputs": [],
   "source": [],
   "metadata": {
    "collapsed": false
   },
   "id": "8f761e6db7bcea83"
  }
 ],
 "metadata": {
  "kernelspec": {
   "display_name": "Python 3",
   "language": "python",
   "name": "python3"
  },
  "language_info": {
   "codemirror_mode": {
    "name": "ipython",
    "version": 2
   },
   "file_extension": ".py",
   "mimetype": "text/x-python",
   "name": "python",
   "nbconvert_exporter": "python",
   "pygments_lexer": "ipython2",
   "version": "2.7.6"
  }
 },
 "nbformat": 4,
 "nbformat_minor": 5
}
